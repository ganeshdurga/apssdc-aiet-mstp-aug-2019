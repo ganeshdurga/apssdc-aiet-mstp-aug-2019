{
 "cells": [
  {
   "cell_type": "markdown",
   "metadata": {},
   "source": [
    "# 16811A0555"
   ]
  },
  {
   "cell_type": "markdown",
   "metadata": {},
   "source": [
    "## tasks(12-09-2019)"
   ]
  },
  {
   "cell_type": "markdown",
   "metadata": {},
   "source": [
    "### Question 1:\n",
    "\n",
    "Mobile Number Validation:\n",
    "\n",
    "You have been given mobile numbers separated by “,” you need to valid those mobile numbers\n",
    "\n",
    "If valid print True otherwise False\n",
    "\n",
    "### Rules:\n",
    "\n",
    "Mobile number should have 10 digits\n",
    "Mobile number should not contain any characters\n",
    "Mobile number should start with (9,8,7,6) series only\n",
    "\n",
    "### Sample Input:\n",
    "9885587654,5647839439,982838281,6799867354,93o9289234\n",
    "### Sample Output:\n",
    "#### True\n",
    "#### False\n",
    "#### False\n",
    "#### True\n",
    "#### False"
   ]
  },
  {
   "cell_type": "code",
   "execution_count": 1,
   "metadata": {},
   "outputs": [
    {
     "name": "stdout",
     "output_type": "stream",
     "text": [
      "9885587654,5647839439,982838281,6799867354,93o9289234\n",
      "True\n",
      "False\n",
      "False\n",
      "True\n",
      "False\n"
     ]
    }
   ],
   "source": [
    "import re\n",
    "numbers=input().split(',')\n",
    "for num in numbers:\n",
    "    if re.search('(^[6-9]\\d{9}$)',num):\n",
    "        print(\"True\")\n",
    "    else:\n",
    "        print(\"False\")"
   ]
  },
  {
   "cell_type": "markdown",
   "metadata": {},
   "source": [
    "## Question 2:\n",
    "Goki wants to have some more friends in his life. Goki has N people who he can be friends with, so he decides to choose among them according to their skills set Yi(1<=i<=n). He wants atleast X skills in his friends.\n",
    "\n",
    "### Input Format:\n",
    "\n",
    "First line of the input contains an integer N denoting the number of people.\n",
    "Next line contains a single integer X - denoting the minimum skill required to be Goki's friend.\n",
    "Next n lines contain one integer Y - denoting the skill of ith person.\n",
    "\n",
    "### Sample Input:\n",
    "5 \n",
    "\n",
    "100\n",
    "\n",
    "110\n",
    "\n",
    "130\n",
    "\n",
    "90\n",
    "\n",
    "100\n",
    "\n",
    "45\n",
    "### Sample Output:\n",
    "YES\n",
    "\n",
    "YES\n",
    "\n",
    "NO\n",
    "\n",
    "YES\n",
    "\n",
    "NO\n"
   ]
  },
  {
   "cell_type": "code",
   "execution_count": 2,
   "metadata": {},
   "outputs": [
    {
     "name": "stdout",
     "output_type": "stream",
     "text": [
      "5\n",
      "100\n",
      "110\n",
      "130\n",
      "90\n",
      "100\n",
      "45\n",
      "YES\n",
      "YES\n",
      "NO\n",
      "YES\n",
      "NO\n"
     ]
    }
   ],
   "source": [
    "n=int(input())\n",
    "m=int(input())\n",
    "a=[]\n",
    "for i in range(n):\n",
    "    d=int(input())\n",
    "    a.append(d)\n",
    "for j in a:\n",
    "    if j>=m:\n",
    "        print(\"YES\")\n",
    "    else:\n",
    "        print(\"NO\")"
   ]
  }
 ],
 "metadata": {
  "kernelspec": {
   "display_name": "Python 3",
   "language": "python",
   "name": "python3"
  },
  "language_info": {
   "codemirror_mode": {
    "name": "ipython",
    "version": 3
   },
   "file_extension": ".py",
   "mimetype": "text/x-python",
   "name": "python",
   "nbconvert_exporter": "python",
   "pygments_lexer": "ipython3",
   "version": "3.7.3"
  }
 },
 "nbformat": 4,
 "nbformat_minor": 2
}
